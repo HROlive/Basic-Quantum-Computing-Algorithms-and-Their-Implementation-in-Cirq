{
 "cells": [
  {
   "cell_type": "code",
   "execution_count": null,
   "metadata": {},
   "outputs": [],
   "source": [
    "import cirq\n",
    "from cirq.contrib.svg import SVGCircuit\n",
    "import numpy as np\n",
    "from cirq_web import BlochSphere\n",
    "\n",
    "qc = cirq.Circuit()\n",
    "\n",
    "m = cirq.NamedQubit(\"q0 (message)\")\n",
    "A = cirq.NamedQubit(\"q1 (Alice)\")\n",
    "B = cirq.NamedQubit(\"q2 (Bob)\")\n",
    "\n",
    "message_gate = cirq.X ** 0.25\n",
    "\n",
    "qc.append(message_gate(m))\n",
    "\n",
    "message_state_vector = cirq.Circuit(message_gate.on(cirq.NamedQubit(\"m\"))).final_state_vector()\n",
    "sphere=BlochSphere(state_vector=message_state_vector)\n",
    "display(sphere)\n",
    "\n",
    "qc.append(cirq.H(A))\n",
    "qc.append(cirq.CX(A,B))\n",
    "\n",
    "qc.append(cirq.CX(m,A))\n",
    "qc.append(cirq.H(m))\n",
    "\n",
    "qc.append(cirq.measure(A,m))\n",
    "\n",
    "qc.append([cirq.CNOT(A,B), cirq.CZ(m,B)])\n",
    "\n",
    "s = cirq.Simulator()\n",
    "\n",
    "result = s.simulate(qc)\n",
    "\n",
    "message_bloch_vector = cirq.bloch_vector_from_state_vector(message_state_vector,index=0)\n",
    "print(\"Bloch vector of message qubit:\")\n",
    "print(np.round(message_bloch_vector, 3))\n",
    "print()\n",
    "print(qc)\n",
    "print()\n",
    "bobs_bloch_vector = cirq.bloch_vector_from_state_vector(result.final_state_vector, index=2)\n",
    "print(\"Bloch vector of Bob's qubit:\")\n",
    "print(np.round(bobs_bloch_vector, 3))\n",
    "\n",
    "state_vector = cirq.to_valid_state_vector(result.final_state_vector)\n",
    "state_vector = cirq.sub_state_vector(state_vector,[2])\n",
    "sphere=BlochSphere(state_vector=state_vector)\n",
    "display(sphere)\n",
    "\n",
    "SVGCircuit(qc)\n"
   ]
  },
  {
   "cell_type": "code",
   "execution_count": null,
   "metadata": {},
   "outputs": [],
   "source": []
  }
 ],
 "metadata": {
  "colab": {
   "name": "start.ipynb",
   "toc_visible": true
  },
  "kernelspec": {
   "display_name": "Python 3 (ipykernel)",
   "language": "python",
   "name": "python3"
  },
  "language_info": {
   "codemirror_mode": {
    "name": "ipython",
    "version": 3
   },
   "file_extension": ".py",
   "mimetype": "text/x-python",
   "name": "python",
   "nbconvert_exporter": "python",
   "pygments_lexer": "ipython3",
   "version": "3.10.12"
  }
 },
 "nbformat": 4,
 "nbformat_minor": 4
}
