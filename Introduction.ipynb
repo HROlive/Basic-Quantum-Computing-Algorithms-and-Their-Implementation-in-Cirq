{
 "cells": [
  {
   "cell_type": "code",
   "execution_count": null,
   "id": "79c79c89-dc45-4afa-b538-ff145fd4bb8f",
   "metadata": {},
   "outputs": [],
   "source": [
    "import cirq\n",
    "from cirq.contrib.svg import SVGCircuit\n",
    "from cirq_web import BlochSphere\n",
    "\n",
    "qc = cirq.Circuit()\n",
    "q0,q1 = cirq.LineQubit.range(2)\n",
    "\n",
    "qc.append(cirq.X(q0))\n",
    "#qc.append(cirq.H(q0))\n",
    "#qc.append(cirq.T(q0))\n",
    "#qc.append(cirq.S(q0))\n",
    "#qc.append(cirq.Z(q0))\n",
    "#qc.append(cirq.X(q0)**(1/4))\n",
    "#qc.append(cirq.Z(q0)**(1/8))\n",
    "\n",
    "#qc.append(cirq.CNOT(q0,q1))\n",
    "#qc.append(cirq.CX(q0,q1))\n",
    "#qc.append(cirq.CZ(q0,q1))\n",
    "#qc.append(cirq.SWAP(q0,q1))\n",
    "\n",
    "zero_state_vector = [1,0]\n",
    "sphere = BlochSphere(state_vector=zero_state_vector)\n",
    "display(sphere)\n",
    "\n",
    "print(qc)\n",
    "print()\n",
    "s = cirq.Simulator()\n",
    "result = s.simulate(qc)\n",
    "print(\"Results:\")\n",
    "print(result)\n",
    "\n",
    "state_vector = cirq.to_valid_state_vector(result.final_state_vector)\n",
    "state_vector = cirq.sub_state_vector(state_vector,[0])\n",
    "sphere = BlochSphere(state_vector=state_vector)\n",
    "display(sphere)\n",
    "\n",
    "SVGCircuit(qc)\n"
   ]
  },
  {
   "cell_type": "code",
   "execution_count": null,
   "id": "3b354ec9-a598-44ec-8c57-356dbc1aa8a6",
   "metadata": {},
   "outputs": [],
   "source": []
  }
 ],
 "metadata": {
  "kernelspec": {
   "display_name": "Python 3 (ipykernel)",
   "language": "python",
   "name": "python3"
  },
  "language_info": {
   "codemirror_mode": {
    "name": "ipython",
    "version": 3
   },
   "file_extension": ".py",
   "mimetype": "text/x-python",
   "name": "python",
   "nbconvert_exporter": "python",
   "pygments_lexer": "ipython3",
   "version": "3.10.12"
  }
 },
 "nbformat": 4,
 "nbformat_minor": 5
}
