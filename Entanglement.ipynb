{
 "cells": [
  {
   "cell_type": "code",
   "execution_count": null,
   "id": "79c79c89-dc45-4afa-b538-ff145fd4bb8f",
   "metadata": {},
   "outputs": [],
   "source": [
    "import cirq\n",
    "from cirq.contrib.svg import SVGCircuit\n",
    "import matplotlib.pyplot as plt\n",
    "\n",
    "qc = cirq.Circuit()\n",
    "q0,q1 = cirq.LineQubit.range(2)\n",
    "\n",
    "#qc.append(cirq.X(q0))\n",
    "#qc.append(cirq.X(q1))\n",
    "qc.append(cirq.H(q0))\n",
    "qc.append(cirq.CNOT(q0,q1))\n",
    "\n",
    "s = cirq.Simulator()\n",
    "print(s.simulate(qc))\n",
    "\n",
    "qc.append(cirq.measure(q1,q0))\n",
    "\n",
    "print()\n",
    "print(qc)\n",
    "\n",
    "samples = s.run(qc, repetitions=1000)\n",
    "\n",
    "cirq.plot_state_histogram(samples, plt.subplot())\n",
    "plt.show()\n",
    "\n",
    "SVGCircuit(qc)\n"
   ]
  },
  {
   "cell_type": "code",
   "execution_count": null,
   "id": "3b354ec9-a598-44ec-8c57-356dbc1aa8a6",
   "metadata": {},
   "outputs": [],
   "source": []
  }
 ],
 "metadata": {
  "kernelspec": {
   "display_name": "Python 3 (ipykernel)",
   "language": "python",
   "name": "python3"
  },
  "language_info": {
   "codemirror_mode": {
    "name": "ipython",
    "version": 3
   },
   "file_extension": ".py",
   "mimetype": "text/x-python",
   "name": "python",
   "nbconvert_exporter": "python",
   "pygments_lexer": "ipython3",
   "version": "3.10.12"
  }
 },
 "nbformat": 4,
 "nbformat_minor": 5
}
