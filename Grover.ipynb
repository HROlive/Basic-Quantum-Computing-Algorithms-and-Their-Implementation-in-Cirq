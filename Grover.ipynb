{
 "cells": [
  {
   "cell_type": "code",
   "execution_count": null,
   "id": "79c79c89-dc45-4afa-b538-ff145fd4bb8f",
   "metadata": {},
   "outputs": [],
   "source": [
    "import cirq\n",
    "from cirq.contrib.svg import SVGCircuit\n",
    "import matplotlib.pyplot as plt\n",
    "\n",
    "qc = cirq.Circuit()\n",
    "q0,q1,q2,q3,q4 = cirq.LineQubit.range(5)\n",
    "\n",
    "qc.append(cirq.H(q0))\n",
    "qc.append(cirq.H(q1))\n",
    "qc.append(cirq.H(q2))\n",
    "\n",
    "qc.append(cirq.X(q4))\n",
    "qc.append(cirq.H(q4))\n",
    "\n",
    "# ------ Oracle ------------------\n",
    "qc.append(cirq.X(q1))\n",
    "qc.append(cirq.CCNOT(q0,q1,q3))\n",
    "qc.append(cirq.CCNOT(q2,q3,q4))\n",
    "qc.append(cirq.CCNOT(q0,q1,q3))\n",
    "qc.append(cirq.X(q1))\n",
    "#---------------------------------\n",
    "\n",
    "# ------ Diffuser ----------------\n",
    "qc.append(cirq.H(q0))\n",
    "qc.append(cirq.H(q1))\n",
    "qc.append(cirq.H(q2))\n",
    "\n",
    "qc.append(cirq.X(q0))\n",
    "qc.append(cirq.X(q1))\n",
    "qc.append(cirq.X(q2))\n",
    "\n",
    "qc.append(cirq.CCNOT(q0,q1,q3))\n",
    "qc.append(cirq.CCNOT(q2,q3,q4))\n",
    "qc.append(cirq.CCNOT(q0,q1,q3))\n",
    "\n",
    "qc.append(cirq.X(q0))\n",
    "qc.append(cirq.X(q1))\n",
    "qc.append(cirq.X(q2))\n",
    "\n",
    "qc.append(cirq.H(q0))\n",
    "qc.append(cirq.H(q1))\n",
    "qc.append(cirq.H(q2))\n",
    "# ----------------------------------\n",
    "\n",
    "qc.append(cirq.measure(q2,q1,q0))\n",
    "\n",
    "print(qc)\n",
    "\n",
    "s = cirq.Simulator()\n",
    "samples = s.run(qc, repetitions=1000)\n",
    "\n",
    "cirq.plot_state_histogram(samples, plt.subplot())\n",
    "plt.show()\n",
    "\n",
    "SVGCircuit(qc)\n"
   ]
  },
  {
   "cell_type": "code",
   "execution_count": null,
   "id": "3b354ec9-a598-44ec-8c57-356dbc1aa8a6",
   "metadata": {},
   "outputs": [],
   "source": []
  }
 ],
 "metadata": {
  "kernelspec": {
   "display_name": "Python 3 (ipykernel)",
   "language": "python",
   "name": "python3"
  },
  "language_info": {
   "codemirror_mode": {
    "name": "ipython",
    "version": 3
   },
   "file_extension": ".py",
   "mimetype": "text/x-python",
   "name": "python",
   "nbconvert_exporter": "python",
   "pygments_lexer": "ipython3",
   "version": "3.10.12"
  }
 },
 "nbformat": 4,
 "nbformat_minor": 5
}
